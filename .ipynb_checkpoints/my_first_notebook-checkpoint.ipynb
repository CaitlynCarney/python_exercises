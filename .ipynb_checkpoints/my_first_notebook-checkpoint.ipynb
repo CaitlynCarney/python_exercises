{
 "cells": [
  {
   "cell_type": "code",
   "execution_count": null,
   "metadata": {},
   "outputs": [],
   "source": [
    "# Welcome to An Example Jupyter Notebook\n",
    "\n",
    "## Now We Know\n",
    "- to run the jupyter notebook server in a folder, run \"jupyter notebook\"\n",
    "- Backtick around code 'like this' is the markdown way of sayig \"this piece of code\"\n",
    "- triple backticks  make a code b lock in markdown\n",
    "\n",
    "    messsage = \"Hello\"\n",
    "    print(message)\n",
    "    \n",
    "  - from edit mode (which comes from the eSC key, \"dd\" delected the highlighted cell \n",
    "\n",
    "\n",
    "\n",
    "message = \"we write python and markdown into Jupyter Notebooks\"\n",
    "then = \"Jupyter save them to JSON\"\n",
    "\n",
    "\n",
    "print(message)\n",
    "print(then)"
   ]
  }
 ],
 "metadata": {
  "kernelspec": {
   "display_name": "Python 3",
   "language": "python",
   "name": "python3"
  },
  "language_info": {
   "codemirror_mode": {
    "name": "ipython",
    "version": 3
   },
   "file_extension": ".py",
   "mimetype": "text/x-python",
   "name": "python",
   "nbconvert_exporter": "python",
   "pygments_lexer": "ipython3",
   "version": "3.8.5"
  }
 },
 "nbformat": 4,
 "nbformat_minor": 4
}
